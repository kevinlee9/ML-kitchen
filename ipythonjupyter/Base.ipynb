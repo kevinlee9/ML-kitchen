{
 "cells": [
  {
   "cell_type": "markdown",
   "metadata": {},
   "source": [
    "# Base\n",
    "Collections of common used snippets for speeding up ML development."
   ]
  },
  {
   "cell_type": "markdown",
   "metadata": {},
   "source": [
    "### Basic Context"
   ]
  },
  {
   "cell_type": "code",
   "execution_count": null,
   "metadata": {},
   "outputs": [],
   "source": [
    "%load_ext autoreload\n",
    "%autoreload 2\n",
    "# %env CUDA_DEVICE_ORDER=PCI_BUS_ID\n",
    "# %env CUDA_VISIBLE_DEVICES=0"
   ]
  },
  {
   "cell_type": "markdown",
   "metadata": {},
   "source": [
    "### Essential Requirments"
   ]
  },
  {
   "cell_type": "code",
   "execution_count": null,
   "metadata": {},
   "outputs": [],
   "source": [
    "import sys\n",
    "import os\n",
    "import numpy as np\n",
    "\n",
    "# sys.path.append(\"user/defined/package/path\")"
   ]
  },
  {
   "cell_type": "markdown",
   "metadata": {},
   "source": [
    "### Visualization "
   ]
  },
  {
   "cell_type": "code",
   "execution_count": null,
   "metadata": {},
   "outputs": [],
   "source": [
    "from matplotlib import pyplot as plt\n",
    "%matplotlib inline\n",
    "\n",
    "def identity(x):\n",
    "    return x\n",
    "\n",
    "def get_ax(rows=1, cols=1, size=4):\n",
    "    \"\"\"Return a Matplotlib Axes array to be used in\n",
    "    all visualizations in the notebook. Provide a\n",
    "    central point to control graph sizes.\n",
    "\n",
    "    Adjust the size attribute to control how big to render images\n",
    "    \"\"\"\n",
    "    splt, ax = plt.subplots(rows, cols, figsize=(size * cols, size * rows), gridspec_kw={\"wspace\": 0, \"hspace\": 0})\n",
    "    if rows == 1: ax = [ax]\n",
    "    return splt, ax\n",
    "\n",
    "def plot_single(img, func=identity, size=4):\n",
    "    splt, ax = get_ax(1, 1, size)\n",
    "    ax[0].imshow(func(img))\n",
    "    ax[0].set_axis_off()\n",
    "\n",
    "def plot_batch(imgs, func=identity, size=4):\n",
    "    if isinstance(imgs, list):\n",
    "        N = len(imgs)\n",
    "    else:\n,"
    "    N = imgs.shape[0]\n",
    "    splt, ax = get_ax(1, N, size)\n",
    "    for i in range(N):\n",
    "        ax[0][i].imshow(func(imgs[i]))\n",
    "        ax[0][i].set_axis_off()"
   ]
  }
 ],
 "metadata": {
  "kernelspec": {
   "display_name": "Python 3",
   "language": "python",
   "name": "python3"
  },
  "language_info": {
   "codemirror_mode": {
    "name": "ipython",
    "version": 3
   },
   "file_extension": ".py",
   "mimetype": "text/x-python",
   "name": "python",
   "nbconvert_exporter": "python",
   "pygments_lexer": "ipython3",
   "version": "3.6.2"
  }
 },
 "nbformat": 4,
 "nbformat_minor": 2
}
